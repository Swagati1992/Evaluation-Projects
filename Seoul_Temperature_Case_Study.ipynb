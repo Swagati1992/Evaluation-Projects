{
 "cells": [
  {
   "cell_type": "code",
   "execution_count": null,
   "id": "47f82fb7",
   "metadata": {},
   "outputs": [],
   "source": [
    "#import necessary libraries\n",
    "import numpy as np\n",
    "import pandas as pd\n",
    "import seaborn as sns\n",
    "import matplotlib.pyplot as plt\n",
    "import scipy\n",
    "import sklearn\n",
    "import warnings\n",
    "warnings.filterwarnings(\"ignore\")"
   ]
  },
  {
   "cell_type": "code",
   "execution_count": null,
   "id": "221ae65c",
   "metadata": {},
   "outputs": [],
   "source": [
    "#importing the dataset\n",
    "df=pd.read_csv(\"temperature.csv\")\n",
    "df"
   ]
  },
  {
   "cell_type": "code",
   "execution_count": null,
   "id": "73fd746a",
   "metadata": {},
   "outputs": [],
   "source": [
    "print(\"There are\",df.shape[0],\"rows and\",df.shape[1],\"columns in the dataset.\")"
   ]
  },
  {
   "cell_type": "code",
   "execution_count": null,
   "id": "1ff45bca",
   "metadata": {},
   "outputs": [],
   "source": [
    "#Checking null values\n",
    "df.isnull().sum()"
   ]
  },
  {
   "cell_type": "code",
   "execution_count": null,
   "id": "afbe1a79",
   "metadata": {},
   "outputs": [],
   "source": [
    "df.isnull()"
   ]
  },
  {
   "cell_type": "code",
   "execution_count": null,
   "id": "fb7aaad6",
   "metadata": {},
   "outputs": [],
   "source": [
    "df.isnull().sum().sum()"
   ]
  },
  {
   "cell_type": "markdown",
   "id": "c795fcb7",
   "metadata": {},
   "source": [
    "So there are total 1248 null values in the dataset."
   ]
  },
  {
   "cell_type": "code",
   "execution_count": null,
   "id": "9dce882a",
   "metadata": {},
   "outputs": [],
   "source": [
    "#visualizing the null values\n",
    "plt.figure(figsize=(20,25))\n",
    "sns.heatmap(df.isnull())\n",
    "plt.show()"
   ]
  },
  {
   "cell_type": "code",
   "execution_count": null,
   "id": "7d41b95b",
   "metadata": {},
   "outputs": [],
   "source": [
    "print(\"As it is a very large dataset having\",df.shape[0],\"rows, dropping\",df.isnull().sum().sum(),\"will not effect the data.\")"
   ]
  },
  {
   "cell_type": "code",
   "execution_count": null,
   "id": "2bb4c573",
   "metadata": {},
   "outputs": [],
   "source": [
    "print(\"Percentage of loss if we drop the null values =\",(df.isnull().sum().sum())/df.shape[0]*100)"
   ]
  },
  {
   "cell_type": "markdown",
   "id": "3e8eade3",
   "metadata": {},
   "source": [
    "So we can consider dropping the NaN values."
   ]
  },
  {
   "cell_type": "code",
   "execution_count": null,
   "id": "b0ba7dbd",
   "metadata": {},
   "outputs": [],
   "source": [
    "df_new=df.dropna(inplace=True)"
   ]
  },
  {
   "cell_type": "code",
   "execution_count": null,
   "id": "847ad819",
   "metadata": {},
   "outputs": [],
   "source": [
    "df.isnull().sum()"
   ]
  },
  {
   "cell_type": "markdown",
   "id": "d3d5448e",
   "metadata": {},
   "source": [
    "Now we can see there are no null values in the dataset."
   ]
  },
  {
   "cell_type": "code",
   "execution_count": null,
   "id": "36220948",
   "metadata": {},
   "outputs": [],
   "source": [
    "df.shape"
   ]
  },
  {
   "cell_type": "code",
   "execution_count": null,
   "id": "e458b0d6",
   "metadata": {},
   "outputs": [],
   "source": [
    "df.head()"
   ]
  },
  {
   "cell_type": "code",
   "execution_count": null,
   "id": "0e5e069a",
   "metadata": {},
   "outputs": [],
   "source": [
    "#Checking for duplicate values\n",
    "df.duplicated().sum()"
   ]
  },
  {
   "cell_type": "markdown",
   "id": "d0e38a23",
   "metadata": {},
   "source": [
    "# Description"
   ]
  },
  {
   "cell_type": "code",
   "execution_count": null,
   "id": "dc41d6d9",
   "metadata": {},
   "outputs": [],
   "source": [
    "df.info()"
   ]
  },
  {
   "cell_type": "markdown",
   "id": "6d702c9b",
   "metadata": {},
   "source": [
    "As we can see only object type data is Date columns, so if we change it as index column we can predict better."
   ]
  },
  {
   "cell_type": "code",
   "execution_count": null,
   "id": "74c8470a",
   "metadata": {},
   "outputs": [],
   "source": [
    "df.index=df['Date']\n",
    "df.drop('Date',axis=1,inplace=True)          #Dropped so that there will be no data duplicacy\n",
    "df.head()"
   ]
  },
  {
   "cell_type": "code",
   "execution_count": null,
   "id": "6a377e47",
   "metadata": {},
   "outputs": [],
   "source": [
    "df.describe()"
   ]
  },
  {
   "cell_type": "markdown",
   "id": "e8678c3c",
   "metadata": {},
   "source": [
    "From the above chart we can say there are no null values in the dataset.\n",
    "\n",
    "There is skewness present in the dataset.\n",
    "\n",
    "There are outliers present in the dataset."
   ]
  },
  {
   "cell_type": "markdown",
   "id": "8ebb25c9",
   "metadata": {},
   "source": [
    "# Visualization"
   ]
  },
  {
   "cell_type": "code",
   "execution_count": null,
   "id": "b62990cd",
   "metadata": {},
   "outputs": [],
   "source": [
    "plt.figure(figsize=(20,25))\n",
    "p=1\n",
    "for i in df.columns:\n",
    "    if p<=25:\n",
    "        plt.subplot(5,5,p)\n",
    "        sns.distplot(df[i],color='red')\n",
    "        plt.xlabel(i,fontsize=15)\n",
    "    p+=1\n",
    "plt.tight_layout()"
   ]
  },
  {
   "cell_type": "code",
   "execution_count": null,
   "id": "aa39a4d2",
   "metadata": {},
   "outputs": [],
   "source": [
    "sns.scatterplot(data=df,x='Present_Tmax',y='Next_Tmax',palette='Setr_2')"
   ]
  },
  {
   "cell_type": "code",
   "execution_count": null,
   "id": "cb937c11",
   "metadata": {},
   "outputs": [],
   "source": [
    "sns.lmplot(data=df,y='LDAPS_PPT3',x='Next_Tmax',palette='pink')"
   ]
  },
  {
   "cell_type": "code",
   "execution_count": null,
   "id": "89e3ac17",
   "metadata": {},
   "outputs": [],
   "source": [
    "#Outliers Detection\n",
    "plt.figure(figsize=(20,25))\n",
    "p=1\n",
    "for i in df.columns:\n",
    "    if p<=25:\n",
    "        plt.subplot(5,5,p)\n",
    "        sns.boxplot(df[i],color='green')\n",
    "        plt.xlabel(i,fontsize=15)\n",
    "    p+=1\n",
    "plt.tight_layout()"
   ]
  },
  {
   "cell_type": "markdown",
   "id": "ed577144",
   "metadata": {},
   "source": [
    "we can see there are lots of outliers present in the dataset. As our target columns are 'Next_Tmax' and 'Next_Tmin',apart from these two columns we will remove outliers from other columns."
   ]
  },
  {
   "cell_type": "code",
   "execution_count": null,
   "id": "83ef688a",
   "metadata": {},
   "outputs": [],
   "source": [
    "#Removing outliers\n",
    "from scipy.stats import zscore\n",
    "outliers=df.iloc[:,0:-2]\n",
    "z=np.abs(zscore(outliers))\n",
    "z"
   ]
  },
  {
   "cell_type": "code",
   "execution_count": null,
   "id": "938a57b7",
   "metadata": {},
   "outputs": [],
   "source": [
    "threshold=3\n",
    "print(np.where(z>3))"
   ]
  },
  {
   "cell_type": "code",
   "execution_count": null,
   "id": "a4816eae",
   "metadata": {},
   "outputs": [],
   "source": [
    "df_new=df[(z<3).all(axis=1)]\n",
    "df_new"
   ]
  },
  {
   "cell_type": "markdown",
   "id": "91d2acae",
   "metadata": {},
   "source": [
    "Lets check data loss after removing outliers."
   ]
  },
  {
   "cell_type": "code",
   "execution_count": null,
   "id": "132a0834",
   "metadata": {},
   "outputs": [],
   "source": [
    "print(\"Percentage of data loss =\",(df.shape[0]-df_new.shape[0])/df.shape[0]*100)"
   ]
  },
  {
   "cell_type": "markdown",
   "id": "2cabeb17",
   "metadata": {},
   "source": [
    "Data loss is 11%, which is acceptable as it is a big dataset. So lets continue with the new dataset."
   ]
  },
  {
   "cell_type": "code",
   "execution_count": null,
   "id": "19d8b6a0",
   "metadata": {},
   "outputs": [],
   "source": [
    "df=df_new\n",
    "df.head()"
   ]
  },
  {
   "cell_type": "markdown",
   "id": "d93b387d",
   "metadata": {},
   "source": [
    "# Skewness"
   ]
  },
  {
   "cell_type": "code",
   "execution_count": null,
   "id": "d361d8c7",
   "metadata": {},
   "outputs": [],
   "source": [
    "plt.figure(figsize=(20,25))\n",
    "p=1\n",
    "for i in df.columns:\n",
    "    if p<=25:\n",
    "        plt.subplot(5,5,p)\n",
    "        sns.distplot(df[i],color='brown')\n",
    "        plt.xlabel(i,fontsize=15)\n",
    "    p+=1\n",
    "plt.tight_layout()"
   ]
  },
  {
   "cell_type": "markdown",
   "id": "3f097700",
   "metadata": {},
   "source": [
    "From the above boxplot chart we can see that there were huge outliers present in the columns :LDAPS_PPT1, LDAPS_PPT2, LDAPS_PPT3, LDAPS_PPT4, and now also we can see that these four much are having extreme skewness, so we can conclude that there is no proper analysis done on these columns, so lets drop these 4 columns."
   ]
  },
  {
   "cell_type": "code",
   "execution_count": null,
   "id": "7297358c",
   "metadata": {},
   "outputs": [],
   "source": [
    "df.drop(['LDAPS_PPT1','LDAPS_PPT2','LDAPS_PPT3','LDAPS_PPT4'],axis=1,inplace=True)\n",
    "df    "
   ]
  },
  {
   "cell_type": "code",
   "execution_count": null,
   "id": "a5f61ae7",
   "metadata": {},
   "outputs": [],
   "source": [
    "#Lets visualize again\n",
    "plt.figure(figsize=(20,25))\n",
    "p=1\n",
    "for i in df.columns:\n",
    "    if p<=20:\n",
    "        plt.subplot(5,4,p)\n",
    "        sns.distplot(df[i],color='m')\n",
    "        plt.xlabel(i,fontsize=15)\n",
    "    p+=1\n",
    "plt.tight_layout()"
   ]
  },
  {
   "cell_type": "code",
   "execution_count": null,
   "id": "dcf4e67f",
   "metadata": {},
   "outputs": [],
   "source": [
    "#Removing the skewness\n",
    "from scipy.stats import boxcox\n",
    "skewed=df[['LDAPS_RHmax','LDAPS_WS','LDAPS_LH','LDAPS_CC1','LDAPS_CC2','LDAPS_CC3','LDAPS_CC4','lon','DEM','Slope',\n",
    "          'Solar radiation']]\n",
    "for i in skewed:\n",
    "    df[i]=boxcox(df[i],0)\n",
    "df.skew()"
   ]
  },
  {
   "cell_type": "markdown",
   "id": "7b891607",
   "metadata": {},
   "source": [
    "We can see some columns are having NaN values. Lets drop them and proceed further."
   ]
  },
  {
   "cell_type": "code",
   "execution_count": null,
   "id": "a8173bd9",
   "metadata": {},
   "outputs": [],
   "source": [
    "df.drop(['LDAPS_CC1','LDAPS_CC2','LDAPS_CC3','LDAPS_CC4'],axis=1,inplace=True)\n",
    "df"
   ]
  },
  {
   "cell_type": "code",
   "execution_count": null,
   "id": "96389432",
   "metadata": {},
   "outputs": [],
   "source": [
    "#checking for any NaN value present in dataset\n",
    "df.isnull().sum()"
   ]
  },
  {
   "cell_type": "markdown",
   "id": "132368ec",
   "metadata": {},
   "source": [
    "As we can see there is 1 null value present in the dataset. Lets remove it and proceed further"
   ]
  },
  {
   "cell_type": "code",
   "execution_count": null,
   "id": "2bdfc2e6",
   "metadata": {},
   "outputs": [],
   "source": [
    "df.dropna(inplace=True)"
   ]
  },
  {
   "cell_type": "code",
   "execution_count": null,
   "id": "10e41745",
   "metadata": {},
   "outputs": [],
   "source": [
    "df.corr()"
   ]
  },
  {
   "cell_type": "code",
   "execution_count": null,
   "id": "16f2b576",
   "metadata": {},
   "outputs": [],
   "source": [
    "#Visualizing Correlation\n",
    "plt.figure (figsize=(20,25))\n",
    "sns.heatmap(df.corr(),annot=True,cmap='Dark2',linewidth=0.3)\n",
    "plt.show()"
   ]
  },
  {
   "cell_type": "code",
   "execution_count": null,
   "id": "fe9cf4ed",
   "metadata": {},
   "outputs": [],
   "source": [
    "#Separating feature and target variable\n",
    "x=df.iloc[:,0:-2]\n",
    "x.head()"
   ]
  },
  {
   "cell_type": "code",
   "execution_count": null,
   "id": "d0b7f899",
   "metadata": {},
   "outputs": [],
   "source": [
    "y1=df[['Next_Tmin']]\n",
    "y1.head()"
   ]
  },
  {
   "cell_type": "code",
   "execution_count": null,
   "id": "5fc7659b",
   "metadata": {},
   "outputs": [],
   "source": [
    "y2=df[['Next_Tmax']]\n",
    "y2.head()"
   ]
  },
  {
   "cell_type": "markdown",
   "id": "cfb4f51c",
   "metadata": {},
   "source": [
    "# Scaling"
   ]
  },
  {
   "cell_type": "code",
   "execution_count": null,
   "id": "ae3877c1",
   "metadata": {},
   "outputs": [],
   "source": [
    "from sklearn.preprocessing import StandardScaler"
   ]
  },
  {
   "cell_type": "code",
   "execution_count": null,
   "id": "e6f12200",
   "metadata": {},
   "outputs": [],
   "source": [
    "#Feature Scaling\n",
    "st=StandardScaler()\n",
    "xf=st.fit_transform(x)\n",
    "xf"
   ]
  },
  {
   "cell_type": "code",
   "execution_count": null,
   "id": "354682dc",
   "metadata": {},
   "outputs": [],
   "source": [
    "x=pd.DataFrame(data=xf,columns=x.columns)\n",
    "x.head()"
   ]
  },
  {
   "cell_type": "markdown",
   "id": "d73b536a",
   "metadata": {},
   "source": [
    "# Checking Multi-Collineraity"
   ]
  },
  {
   "cell_type": "code",
   "execution_count": null,
   "id": "2aa7a48d",
   "metadata": {},
   "outputs": [],
   "source": [
    "from statsmodels.stats.outliers_influence import variance_inflation_factor"
   ]
  },
  {
   "cell_type": "code",
   "execution_count": null,
   "id": "b240d8c9",
   "metadata": {},
   "outputs": [],
   "source": [
    "vif=pd.DataFrame()\n",
    "vif['VIF_values']=[variance_inflation_factor(x.values,i)for i in range(len(x.columns))]\n",
    "vif['Features']=x.columns\n",
    "vif"
   ]
  },
  {
   "cell_type": "markdown",
   "id": "4592435d",
   "metadata": {},
   "source": [
    "# Modelling"
   ]
  },
  {
   "cell_type": "code",
   "execution_count": null,
   "id": "34196ac8",
   "metadata": {},
   "outputs": [],
   "source": [
    "#Importing necessary library\n",
    "from sklearn.model_selection import train_test_split\n",
    "from sklearn.metrics import r2_score, mean_absolute_error, mean_squared_error\n",
    "from sklearn.ensemble import RandomForestRegressor\n",
    "from sklearn.neighbors import KNeighborsRegressor\n",
    "from sklearn.tree import DecisionTreeRegressor\n",
    "from sklearn.svm import SVR\n",
    "from sklearn.linear_model import LinearRegression, Lasso, Ridge, ElasticNet"
   ]
  },
  {
   "cell_type": "markdown",
   "id": "62d7a765",
   "metadata": {},
   "source": [
    "# Modelling for Y1(Next_Tmin)"
   ]
  },
  {
   "cell_type": "code",
   "execution_count": null,
   "id": "5615e0da",
   "metadata": {},
   "outputs": [],
   "source": [
    "#creating train_test_split\n",
    "x_train,x_test,y1_train,y1_test=train_test_split(x,y1,test_size=0.33,random_state=42)\n",
    "print(x_train.shape)\n",
    "print(x_test.shape)\n",
    "print(y1_train.shape)\n",
    "print(y1_test.shape)"
   ]
  },
  {
   "cell_type": "code",
   "execution_count": null,
   "id": "afe1b087",
   "metadata": {},
   "outputs": [],
   "source": [
    "lr=LinearRegression()\n",
    "lr.fit(x_train,y1_train)\n",
    "lr_pred=lr.predict(x_test)\n",
    "print(\"R2 score =\",r2_score(y1_test,lr_pred))\n",
    "print(\"Mean Absolute Error =\",mean_absolute_error(y1_test,lr_pred))\n",
    "print(\"Mean Squared Error =\",mean_squared_error(y1_test,lr_pred))"
   ]
  },
  {
   "cell_type": "code",
   "execution_count": null,
   "id": "4b7841fc",
   "metadata": {},
   "outputs": [],
   "source": [
    "rfr=RandomForestRegressor()\n",
    "rfr.fit(x_train,y1_train)\n",
    "rfr_pred=rfr.predict(x_test)\n",
    "print(\"R2 score =\",r2_score(y1_test,rfr_pred))\n",
    "print(\"Mean Absolute Error =\",mean_absolute_error(y1_test,rfr_pred))\n",
    "print(\"Mean Squared Error =\",mean_squared_error(y1_test,rfr_pred))"
   ]
  },
  {
   "cell_type": "code",
   "execution_count": null,
   "id": "8782c309",
   "metadata": {},
   "outputs": [],
   "source": [
    "dtr=DecisionTreeRegressor()\n",
    "dtr.fit(x_train,y1_train)\n",
    "dtr_pred=dtr.predict(x_test)\n",
    "print(\"R2 score =\",r2_score(y1_test,dtr_pred))\n",
    "print(\"Mean Absolute Error =\",mean_absolute_error(y1_test,dtr_pred))\n",
    "print(\"Mean Squared Error =\",mean_squared_error(y1_test,dtr_pred))"
   ]
  },
  {
   "cell_type": "code",
   "execution_count": null,
   "id": "777797ab",
   "metadata": {},
   "outputs": [],
   "source": [
    "knr.fit(x_train,y1_train)\n",
    "knr_pred=knr.predict(x_test)\n",
    "print(\"R2 score =\",r2_score(y1_test,knr_pred))\n",
    "print(\"Mean Absolute Error =\",mean_absolute_error(y1_test,knr_pred))\n",
    "print(\"Mean Squared Error =\",mean_squared_error(y1_test,knr_pred))"
   ]
  },
  {
   "cell_type": "code",
   "execution_count": null,
   "id": "aee86a05",
   "metadata": {},
   "outputs": [],
   "source": [
    "sv=SVR()\n",
    "sv.fit(x_train,y1_train)\n",
    "sv_pred=sv.predict(x_test)\n",
    "print(\"R2 score =\",r2_score(y1_test,sv_pred))\n",
    "print(\"Mean Absolute Error =\",mean_absolute_error(y1_test,sv_pred))\n",
    "print(\"Mean Squared Error =\",mean_squared_error(y1_test,sv_pred))"
   ]
  },
  {
   "cell_type": "markdown",
   "id": "8e405b3a",
   "metadata": {},
   "source": [
    "# Cross_Validation"
   ]
  },
  {
   "cell_type": "code",
   "execution_count": null,
   "id": "482c5da4",
   "metadata": {},
   "outputs": [],
   "source": [
    "from sklearn.model_selection import cross_val_score"
   ]
  },
  {
   "cell_type": "code",
   "execution_count": null,
   "id": "f20f3096",
   "metadata": {},
   "outputs": [],
   "source": [
    "rfr_score=cross_val_score(rfr,x,y1)\n",
    "print(rfr_score)\n",
    "print(rfr_score.mean())\n",
    "print(\"The difference between cv score and r2 score =\",(r2_score(y1_test,rfr_pred))-(rfr_score.mean()))"
   ]
  },
  {
   "cell_type": "code",
   "execution_count": null,
   "id": "9d97abec",
   "metadata": {},
   "outputs": [],
   "source": [
    "dtr_score=cross_val_score(dtr,x,y1)\n",
    "print(dtr_score)\n",
    "print(dtr_score.mean())\n",
    "print(\"The difference between cv score and r2 score =\",(r2_score(y1_test,dtr_pred))-(dfr_score.mean()))"
   ]
  },
  {
   "cell_type": "code",
   "execution_count": null,
   "id": "f5834fbd",
   "metadata": {},
   "outputs": [],
   "source": [
    "knr_score=cross_val_score(knr,x,y1)\n",
    "print(knr_score)\n",
    "print(knr_score.mean())\n",
    "print(\"The difference between cv score and r2 score =\",(r2_score(y1_test,knr_pred))-(knr_score.mean()))"
   ]
  },
  {
   "cell_type": "markdown",
   "id": "2b7fff62",
   "metadata": {},
   "source": [
    "# Hyper_Parameter Tuning"
   ]
  },
  {
   "cell_type": "code",
   "execution_count": null,
   "id": "c997f7c0",
   "metadata": {},
   "outputs": [],
   "source": [
    "from sklearn.model_selection import GridSearchCV"
   ]
  },
  {
   "cell_type": "code",
   "execution_count": null,
   "id": "c584ba2d",
   "metadata": {},
   "outputs": [],
   "source": [
    "dtr=DecisionTreeRegressor()\n",
    "parameters={'criterion':['squared_error', 'friedman_mse', 'absolute_error', 'poisson'],'splitter':['best','random']}\n",
    "grid=GridSearchCV(estimator=dtr,param_grid=parameters)\n",
    "grid.fit(x,y1)\n",
    "print(\"SCORE =\",grid.best_score_)\n",
    "print(grid.best_params_)"
   ]
  },
  {
   "cell_type": "code",
   "execution_count": null,
   "id": "d7817122",
   "metadata": {},
   "outputs": [],
   "source": [
    "#Applying the hyper parameter tuning on the model\n",
    "dtr=DecisionTreeRegressor(criterion= 'squared_error', splitter= 'best')\n",
    "dtr.fit(x_train,y1_train)\n",
    "pred=dtr.predict(x_test)\n",
    "print(\"R2 SCORE =\",r2_score(y1_test,pred))"
   ]
  },
  {
   "cell_type": "code",
   "execution_count": null,
   "id": "f091bdd6",
   "metadata": {},
   "outputs": [],
   "source": [
    "rfr=RandomForestRegressor()\n",
    "parameters={'n_estimators':[120,130,240],'criterion':['absolute_error','friedman_mse','poisson']}\n",
    "grid=GridSearchCV(estimator=rfr,param_grid=parameters)\n",
    "grid.fit(x,y1)\n",
    "print(\"SCORE =\",grid.best_score_)\n",
    "print(grid.best_params_)"
   ]
  },
  {
   "cell_type": "code",
   "execution_count": null,
   "id": "c6c482f1",
   "metadata": {},
   "outputs": [],
   "source": [
    "#Applying the hyper parameter tuning on the model\n",
    "rfr=RandomForestRegressor(n_estimators=120,criterion='friedman_mse')\n",
    "rfr.fit(x_train,y1_train)\n",
    "pred=rfr.predict(x_test)\n",
    "print(\"R2 score =\",r2_score(y1_test,pred))"
   ]
  },
  {
   "cell_type": "markdown",
   "id": "cad5d394",
   "metadata": {},
   "source": [
    "So we can see there is a increase in accuracy score after applying hyper tuning parameters."
   ]
  },
  {
   "cell_type": "code",
   "execution_count": null,
   "id": "741657ea",
   "metadata": {},
   "outputs": [],
   "source": [
    "final_model=rfr\n",
    "final_model"
   ]
  },
  {
   "cell_type": "markdown",
   "id": "5702ca58",
   "metadata": {},
   "source": [
    "# Saving the best model and predicting the saved model"
   ]
  },
  {
   "cell_type": "code",
   "execution_count": null,
   "id": "1e5380b5",
   "metadata": {},
   "outputs": [],
   "source": [
    "import joblib\n",
    "joblib.dump(final_model,\"Minimum temp.pkl\")"
   ]
  },
  {
   "cell_type": "code",
   "execution_count": null,
   "id": "863f77ee",
   "metadata": {},
   "outputs": [],
   "source": [
    "model=joblib.load(\"Minimum temp.pkl\")\n",
    "prediction=model.predict(x_test)\n",
    "prediction"
   ]
  },
  {
   "cell_type": "code",
   "execution_count": null,
   "id": "53577a4d",
   "metadata": {},
   "outputs": [],
   "source": [
    "actual=np.array(y1_test)\n",
    "actual.reshape(-1,1)\n",
    "actual"
   ]
  },
  {
   "cell_type": "markdown",
   "id": "27fdb8cf",
   "metadata": {},
   "source": [
    "# Modelling Y2(Next_Tmax)"
   ]
  },
  {
   "cell_type": "code",
   "execution_count": null,
   "id": "e09fb728",
   "metadata": {},
   "outputs": [],
   "source": [
    "#creating train_test_split\n",
    "x_train,x_test,y2_train,y2_test=train_test_split(x,y2,test_size=0.33,random_state=42)\n",
    "print(x_train.shape)\n",
    "print(x_test.shape)\n",
    "print(y2_train.shape)\n",
    "print(y2_test.shape)"
   ]
  },
  {
   "cell_type": "code",
   "execution_count": null,
   "id": "6854612c",
   "metadata": {},
   "outputs": [],
   "source": [
    "lr=LinearRegression()\n",
    "lr.fit(x_train,y2_train)\n",
    "lr_pred=lr.predict(x_test)\n",
    "print(\"R2 score =\",r2_score(y2_test,lr_pred))\n",
    "print(\"Mean Absolute Error =\",mean_absolute_error(y2_test,lr_pred))\n",
    "print(\"Mean Squared Error =\",mean_squared_error(y2_test,lr_pred))"
   ]
  },
  {
   "cell_type": "code",
   "execution_count": null,
   "id": "ab78072e",
   "metadata": {},
   "outputs": [],
   "source": [
    "rfr=RandomForestRegressor()\n",
    "rfr.fit(x_train,y2_train)\n",
    "rfr_pred=rfr.predict(x_test)\n",
    "print(\"R2 score =\",r2_score(y2_test,rfr_pred))\n",
    "print(\"Mean Absolute Error =\",mean_absolute_error(y2_test,rfr_pred))\n",
    "print(\"Mean Squared Error =\",mean_squared_error(y2_test,rfr_pred))"
   ]
  },
  {
   "cell_type": "code",
   "execution_count": null,
   "id": "fa1a4acd",
   "metadata": {},
   "outputs": [],
   "source": [
    "dtr=DecisionTreeRegressor()\n",
    "dtr.fit(x_train,y2_train)\n",
    "dtr_pred=dtr.predict(x_test)\n",
    "print(\"R2 score =\",r2_score(y2_test,dtr_pred))\n",
    "print(\"Mean Absolute Error =\",mean_absolute_error(y2_test,dtr_pred))\n",
    "print(\"Mean Squared Error =\",mean_squared_error(y2_test,dtr_pred))"
   ]
  },
  {
   "cell_type": "markdown",
   "id": "c54cbae0",
   "metadata": {},
   "source": [
    "# Cross_Validation"
   ]
  },
  {
   "cell_type": "code",
   "execution_count": null,
   "id": "c19f0fdc",
   "metadata": {},
   "outputs": [],
   "source": [
    "rfr_score=cross_val_score(rfr,x,y2)\n",
    "print(rfr_score)\n",
    "print(rfr_score.mean())\n",
    "print(\"The difference between cv score and r2 score is =\",(r2_score(y2_test,rfr_pred))-rfr_score.mean())"
   ]
  },
  {
   "cell_type": "code",
   "execution_count": null,
   "id": "e18564f0",
   "metadata": {},
   "outputs": [],
   "source": [
    "dtr_score=cross_val_score(dtr,x,y2)\n",
    "print(dtr_score)\n",
    "print(dtr_score.mean())\n",
    "print(\"The difference between cv score and r2 score is =\",(r2_score(y2_test,dtr_pred))-dtr_score.mean())"
   ]
  },
  {
   "cell_type": "markdown",
   "id": "20b051b1",
   "metadata": {},
   "source": [
    "# Hyper_Parameter Tuning"
   ]
  },
  {
   "cell_type": "code",
   "execution_count": null,
   "id": "8acb74e8",
   "metadata": {},
   "outputs": [],
   "source": [
    "from sklearn.model_selection import GridSearchCV"
   ]
  },
  {
   "cell_type": "code",
   "execution_count": null,
   "id": "e9107eca",
   "metadata": {},
   "outputs": [],
   "source": [
    "model=rfr\n",
    "{'n_estimators':[120,130,240],'criterion':['absolute_error','friedman_mse','poisson']}\n",
    "grid=GridSearchCV(estimator=rfr,param_grid=parameters)\n",
    "grid.fit(x,y1)\n",
    "print(\"SCORE =\",grid.best_score_)\n",
    "print(grid.best_params_)"
   ]
  },
  {
   "cell_type": "code",
   "execution_count": 96,
   "id": "36a6280c",
   "metadata": {},
   "outputs": [
    {
     "name": "stdout",
     "output_type": "stream",
     "text": [
      "R2 score = 0.8647305187090617\n"
     ]
    }
   ],
   "source": [
    "#Applying the hyper parameter tuning on the model\n",
    "rfr=RandomForestRegressor(n_estimators=120,criterion='friedman_mse')\n",
    "rfr.fit(x_train,y1_train)\n",
    "pred=rfr.predict(x_test)\n",
    "print(\"R2 score =\",r2_score(y1_test,pred))"
   ]
  },
  {
   "cell_type": "code",
   "execution_count": 97,
   "id": "0f4cda27",
   "metadata": {},
   "outputs": [
    {
     "data": {
      "text/plain": [
       "RandomForestRegressor(criterion='friedman_mse', n_estimators=120)"
      ]
     },
     "execution_count": 97,
     "metadata": {},
     "output_type": "execute_result"
    }
   ],
   "source": [
    "final_model=rfr\n",
    "final_model"
   ]
  },
  {
   "cell_type": "markdown",
   "id": "ebb4cfdc",
   "metadata": {},
   "source": [
    "# Saving the best model and predicting saved model"
   ]
  },
  {
   "cell_type": "code",
   "execution_count": 99,
   "id": "815e76ca",
   "metadata": {},
   "outputs": [
    {
     "data": {
      "text/plain": [
       "['Maximum Temp.pkl']"
      ]
     },
     "execution_count": 99,
     "metadata": {},
     "output_type": "execute_result"
    }
   ],
   "source": [
    "import joblib\n",
    "joblib.dump(final_model,\"Maximum Temp.pkl\")"
   ]
  },
  {
   "cell_type": "code",
   "execution_count": 101,
   "id": "e3f27cfe",
   "metadata": {},
   "outputs": [
    {
     "data": {
      "text/plain": [
       "array([25.86      , 21.32583333, 22.44166667, ..., 24.0525    ,\n",
       "       24.97666667, 23.77416667])"
      ]
     },
     "execution_count": 101,
     "metadata": {},
     "output_type": "execute_result"
    }
   ],
   "source": [
    "model=joblib.load(\"Maximum Temp.pkl\")\n",
    "prediction=model.predict(x_test)\n",
    "prediction"
   ]
  },
  {
   "cell_type": "code",
   "execution_count": 108,
   "id": "c5b4d701",
   "metadata": {},
   "outputs": [
    {
     "data": {
      "text/plain": [
       "array([[35.1, 29.7, 34.9, ..., 32.7, 35.1, 27.4]])"
      ]
     },
     "execution_count": 108,
     "metadata": {},
     "output_type": "execute_result"
    }
   ],
   "source": [
    "actual=np.array(y2_test)\n",
    "actual.reshape(1,-1)"
   ]
  },
  {
   "cell_type": "markdown",
   "id": "563474b3",
   "metadata": {},
   "source": [
    "We can see both are models are performing well."
   ]
  }
 ],
 "metadata": {
  "kernelspec": {
   "display_name": "Python 3 (ipykernel)",
   "language": "python",
   "name": "python3"
  },
  "language_info": {
   "codemirror_mode": {
    "name": "ipython",
    "version": 3
   },
   "file_extension": ".py",
   "mimetype": "text/x-python",
   "name": "python",
   "nbconvert_exporter": "python",
   "pygments_lexer": "ipython3",
   "version": "3.9.13"
  }
 },
 "nbformat": 4,
 "nbformat_minor": 5
}
